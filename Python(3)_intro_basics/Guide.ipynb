{
 "cells": [
  {
   "cell_type": "markdown",
   "metadata": {
    "collapsed": true
   },
   "source": [
    "# Readme\n",
    "\n",
    "1. Create virtual environment\n",
    "2. Install third-party modules\n",
    "\n",
    "\n",
    "### PyCharm Community Edition\n",
    "\n",
    "PyCharm (IDE) [installation guide](https://www.jetbrains.com/help/pycharm/installation-guide.html)\n",
    "\n",
    ">To create Desktop Launcher:\n",
    "<br>Tools -> Create Desktop Entry...\n",
    "\n",
    "\n",
    "## Create virtual environment\n",
    "\n",
    "It is a good practise to create virtual environment for each of your project - it is used to manage packages\n",
    "<br>It protects you against installing packages globally - there is always a possibility that some of them could have damaged other project\n",
    "\n",
    "#### Terminal\n",
    "\n",
    ">python3.X -m venv PATH_TO_YOUR_ENV\n",
    "<br>source bin/activate\n",
    "\n",
    "#### PyCharm\n",
    "\n",
    ">File -> New Project... -> OK -> Create\n",
    "\n",
    "Choose location and name of your project, then click _sprocket_ on the right and choose \"_Create VirtualEnv_\"\n",
    "<img alt=\"New Project n PyCharm\" src=\"pics/new_project.png\">\n",
    "\n",
    "## Installation of third-party modules\n",
    "\n",
    "#### Terminal\n",
    ">pip install MODULE_NAME\n",
    "\n",
    "#### PyCharm\n",
    ">File -> Settings -> Project Interpreter (under Project: NAME) -> Click \"+\" on the right and choose module you want to install -> Install Package -> OK\n",
    "\n",
    "<img alt=\"Install third-party module in PyCharm\" src=\"pics/install_mod.png\">"
   ]
  },
  {
   "cell_type": "code",
   "execution_count": null,
   "metadata": {},
   "outputs": [],
   "source": []
  }
 ],
 "metadata": {
  "kernelspec": {
   "display_name": "Python 3",
   "language": "python",
   "name": "python3"
  },
  "language_info": {
   "codemirror_mode": {
    "name": "ipython",
    "version": 3
   },
   "file_extension": ".py",
   "mimetype": "text/x-python",
   "name": "python",
   "nbconvert_exporter": "python",
   "pygments_lexer": "ipython3",
   "version": "3.7.3"
  },
  "widgets": {
   "state": {},
   "version": "1.1.2"
  }
 },
 "nbformat": 4,
 "nbformat_minor": 1
}
