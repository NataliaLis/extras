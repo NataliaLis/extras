{
 "cells": [
  {
   "cell_type": "markdown",
   "metadata": {
    "collapsed": true
   },
   "source": [
    "# Excerices - extra\n",
    "\n",
    "Separate cell needs to be create to execute each command\n",
    "\n",
    "Shift + Enter - execute code in the cell\n",
    "\n",
    "Use _print()_ if you use _\\n_ in your string\n",
    "\n",
    "#### Hints\n",
    ">[__os.walk()__](https://docs.python.org/3/library/os.html) to list files in folder\n",
    "<br>**os.mkdir(*path*)** to create directory\n",
    "<br>**os.path.exists(*path*)** to check if path exists\n",
    "<br>**os.path.join(*paths*)** to join one or more path components\n",
    "\n",
    "\n",
    ">[__datetime__](https://docs.python.org/3/library/datetime.html) for operations on dates\n",
    "<br>**datetime.today()** to define today's date\n",
    "<br>**datetime.strftime(*format*)** to format date (return string), eg. \"*%Y-%m-%d*\"\n",
    "<br>**datetime.timedelta()** to express duration, eg. *timedelta(days=7)*\n",
    "\n",
    "\n",
    ">[__shutil__](https://docs.python.org/3/library/shutil.html) for operations on files\n",
    "<br>**shutil.move(*src*, *dsc*)** to move files between directories"
   ]
  },
  {
   "cell_type": "markdown",
   "metadata": {},
   "source": [
    "1) Print each second letter from the string:"
   ]
  },
  {
   "cell_type": "code",
   "execution_count": 7,
   "metadata": {},
   "outputs": [],
   "source": [
    "example = 'My name is Natalia'\n",
    "# Put your code here"
   ]
  },
  {
   "cell_type": "markdown",
   "metadata": {},
   "source": [
    "2) Print the last letter in the string from task \\#1"
   ]
  },
  {
   "cell_type": "code",
   "execution_count": 6,
   "metadata": {
    "collapsed": true
   },
   "outputs": [],
   "source": [
    "# Put your code here"
   ]
  },
  {
   "cell_type": "markdown",
   "metadata": {},
   "source": [
    "3) Print this string in reverse order:"
   ]
  },
  {
   "cell_type": "code",
   "execution_count": 2,
   "metadata": {},
   "outputs": [],
   "source": [
    "name = 'Natalia'\n",
    "# Put your code here"
   ]
  },
  {
   "cell_type": "markdown",
   "metadata": {},
   "source": [
    "4) Use variables below and print a sentence:\n",
    "\n",
    "_There are 4 flowers named Iris in the garden_"
   ]
  },
  {
   "cell_type": "code",
   "execution_count": 8,
   "metadata": {
    "collapsed": true
   },
   "outputs": [],
   "source": [
    "flower_name = 'Iris'\n",
    "flower_num = 4\n",
    "# Put your code here"
   ]
  },
  {
   "cell_type": "markdown",
   "metadata": {},
   "source": [
    "5) Operations on lists\n",
    "\n",
    "Evil Stepmother prepared two shopping list for her beloved daugthers (she is not very clever so there are duplicates of course). Then she realised that there is a Cindarella in the basement. Ha! She can do it!\n",
    "\n",
    "You are a Cindarella, you need to do some cleaning before going to the mall."
   ]
  },
  {
   "cell_type": "code",
   "execution_count": null,
   "metadata": {
    "scrolled": true
   },
   "outputs": [],
   "source": [
    "drizella = ['flour', 'apples', 'pasta', 'tomatos', 'oranges', 'cheese']\n",
    "anastasia = ['bread', 'milk', 'flour', 'cheese']"
   ]
  },
  {
   "cell_type": "markdown",
   "metadata": {},
   "source": [
    "* Merge both lists (and create new one)"
   ]
  },
  {
   "cell_type": "code",
   "execution_count": null,
   "metadata": {},
   "outputs": [],
   "source": [
    "# Put your code here"
   ]
  },
  {
   "cell_type": "markdown",
   "metadata": {},
   "source": [
    "* Remove duplicates\n"
   ]
  },
  {
   "cell_type": "code",
   "execution_count": null,
   "metadata": {},
   "outputs": [],
   "source": [
    "# Put your code here"
   ]
  },
  {
   "cell_type": "markdown",
   "metadata": {},
   "source": [
    "* There is a flour in the basement... Stepmother is so distraite... Remove flour from the list\n"
   ]
  },
  {
   "cell_type": "code",
   "execution_count": null,
   "metadata": {},
   "outputs": [],
   "source": [
    "# Put your code here"
   ]
  },
  {
   "cell_type": "markdown",
   "metadata": {},
   "source": [
    "* Sort the items - you like when everything is in order\n"
   ]
  },
  {
   "cell_type": "code",
   "execution_count": null,
   "metadata": {},
   "outputs": [],
   "source": [
    "# Put your code here"
   ]
  },
  {
   "cell_type": "markdown",
   "metadata": {},
   "source": [
    "* Butter... we don't have a butter... Add butter to the list - to keep alphabetical order\n",
    "\n",
    ">__Hint__\n",
    "<br>Use insert(i, x)"
   ]
  },
  {
   "cell_type": "code",
   "execution_count": null,
   "metadata": {},
   "outputs": [],
   "source": [
    "# Put your code here"
   ]
  },
  {
   "cell_type": "markdown",
   "metadata": {},
   "source": [
    "Now you are ready for shopping, print \"item: bought\" when the item in the lists ends with \"s\".\n",
    "<br>Otherwise, print \"go shopping\""
   ]
  },
  {
   "cell_type": "code",
   "execution_count": null,
   "metadata": {},
   "outputs": [],
   "source": [
    "# Put your code here"
   ]
  },
  {
   "cell_type": "markdown",
   "metadata": {},
   "source": [
    "6) Edit your script from the workshop to make your script working whenever user choose _q_ or _Q_\n",
    "\n",
    "Your script ask user for some input:\n",
    "* if it is letter 'q', print 'Bye!'\n",
    "\n",
    "* otherwise, print 'Your answer is: USER_INPUT'"
   ]
  },
  {
   "cell_type": "code",
   "execution_count": null,
   "metadata": {},
   "outputs": [],
   "source": [
    "user_input = input('Would you like to contine? ')\n",
    "\n",
    "# Put your code here"
   ]
  },
  {
   "cell_type": "markdown",
   "metadata": {},
   "source": [
    "* Make script working until user choose letter 'q'"
   ]
  },
  {
   "cell_type": "code",
   "execution_count": null,
   "metadata": {},
   "outputs": [],
   "source": [
    "# Put your code here"
   ]
  },
  {
   "cell_type": "markdown",
   "metadata": {},
   "source": [
    "7) Functions\n",
    "\n",
    "* Print only a filename for path: '/home/user/file.txt' -> [os.path](https://docs.python.org/2/library/os.path.html)"
   ]
  },
  {
   "cell_type": "code",
   "execution_count": null,
   "metadata": {},
   "outputs": [],
   "source": [
    "# Put your code here"
   ]
  },
  {
   "cell_type": "markdown",
   "metadata": {},
   "source": [
    "* Print current date (format: *dd-mm-yyyy*) -> [datetime & strftime](https://docs.python.org/3/library/datetime.html)"
   ]
  },
  {
   "cell_type": "code",
   "execution_count": null,
   "metadata": {},
   "outputs": [],
   "source": [
    "# Put your code here"
   ]
  },
  {
   "cell_type": "markdown",
   "metadata": {},
   "source": [
    "* Date calculations\n",
    "\n",
    "Today, you just opened new pair of contact lenses.\n",
    "<br>They are valid during next two weeks\n",
    "<br>Calculate the date when you have to change them to the new ones"
   ]
  },
  {
   "cell_type": "code",
   "execution_count": null,
   "metadata": {
    "collapsed": true
   },
   "outputs": [],
   "source": [
    "from datetime import datetime\n",
    "from datetime import timedelta\n",
    "\n",
    "# Put your code here"
   ]
  },
  {
   "cell_type": "markdown",
   "metadata": {
    "collapsed": true
   },
   "source": [
    "* Summer Desktop cleaning\n",
    "\n",
    ">__Hint__\n",
    "<br>Do it in PyCharm\n",
    "\n",
    ">**Windows users**\n",
    "<br>You need to use double \\\\ in your paths!\n",
    "<br>`C:\\\\Documents\\\\Summer2019.pdf`\n",
    "\n",
    "Find screenshots on your computer and store them in one folder\n",
    "\n",
    "Here is an example output of how it can looks like:\n",
    "<img alt=\"Example for _summer desktop cleaning_ funtion\" src=\"pics/summer_clean.jpg\" align=left width=70%>"
   ]
  },
  {
   "cell_type": "code",
   "execution_count": null,
   "metadata": {},
   "outputs": [],
   "source": [
    "# Example\n",
    "import os\n",
    "import sys\n",
    "import shutil\n",
    "\n",
    "for dir_root, dir_list, file_list in os.walk('./pics'):\n",
    "    print('Main directory: %s\\nSubdirectories: %s\\n' % (dir_root, ','.join(dir_list)))\n",
    "    for file in file_list:\n",
    "        print('File: ' + file)"
   ]
  },
  {
   "cell_type": "markdown",
   "metadata": {
    "collapsed": true
   },
   "source": [
    "* Add extra checks:\n",
    "\n",
    "    * Check if directory with screenshots (for cleaning) exists\n",
    "    \n",
    "    * Check if user directory (for storing screenshots) exists\n",
    "    \n",
    "    * Do not check directory for storing screenshots (because we move files there and it is not necessary)\n",
    "    \n",
    "    * Check if file already exists in the directory where screenshots are moved\n",
    "    <br>If so, change the file name and move file to the directory"
   ]
  }
 ],
 "metadata": {
  "kernelspec": {
   "display_name": "Python 3",
   "language": "python",
   "name": "python3"
  },
  "language_info": {
   "codemirror_mode": {
    "name": "ipython",
    "version": 3
   },
   "file_extension": ".py",
   "mimetype": "text/x-python",
   "name": "python",
   "nbconvert_exporter": "python",
   "pygments_lexer": "ipython3",
   "version": "3.7.3"
  },
  "widgets": {
   "state": {},
   "version": "1.1.2"
  }
 },
 "nbformat": 4,
 "nbformat_minor": 1
}
