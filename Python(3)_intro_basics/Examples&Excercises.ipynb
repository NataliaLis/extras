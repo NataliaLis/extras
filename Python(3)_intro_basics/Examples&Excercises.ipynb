{
 "cells": [
  {
   "cell_type": "markdown",
   "metadata": {},
   "source": [
    "# Python(3) intro\n",
    "## Examples & Excercises\n",
    "\n",
    "\n",
    "Supplement for presentation on [slides.com](https://slides.com/lisieslajdy/python-3/fullscreen)\n",
    "\n",
    "\n",
    "[Python Operations](https://docs.python.org/3/library/operator.html)"
   ]
  },
  {
   "cell_type": "markdown",
   "metadata": {},
   "source": [
    "### Basic operations in Python"
   ]
  },
  {
   "cell_type": "code",
   "execution_count": null,
   "metadata": {},
   "outputs": [],
   "source": [
    "# Math\n",
    "a = 2 + 2 * 2\n",
    "a"
   ]
  },
  {
   "cell_type": "code",
   "execution_count": null,
   "metadata": {},
   "outputs": [],
   "source": [
    "# Words concatenation\n",
    "name = 'Jan'\n",
    "surname = 'Kowalski'\n",
    "name_full = name + ' ' + surname\n",
    "name_full"
   ]
  },
  {
   "cell_type": "code",
   "execution_count": null,
   "metadata": {},
   "outputs": [],
   "source": [
    "# Words multiplication\n",
    "word = 'Bat'\n",
    "word*3"
   ]
  },
  {
   "cell_type": "markdown",
   "metadata": {},
   "source": [
    "#### Task \\#0\n",
    "\n",
    "* Write sentence:\n",
    "\n",
    "*Name repeated __a__ times: __aXname__*, \n",
    "\n",
    "where _a_ and _name_ are variables from examples above"
   ]
  },
  {
   "cell_type": "code",
   "execution_count": null,
   "metadata": {},
   "outputs": [],
   "source": [
    "# Put your code here\n"
   ]
  },
  {
   "cell_type": "markdown",
   "metadata": {},
   "source": [
    "### Data Types\n",
    "Generally, we can divide data types into two groups:\n",
    "* immutable\n",
    "* mutable\n",
    "\n",
    "__Immutable__ variables aren't changable. It means, when we assign new value, old object is destroyed and new one is created.\n",
    "\n",
    "\n",
    "__Mutable__ is opposite - we can change the object\n",
    "\n",
    "\n",
    "Immutable | Mutable \n",
    " --- | --- \n",
    "bool | list\n",
    "int | set\n",
    "float | dict\n",
    "str | \n",
    "tuple | \n",
    "\n",
    "Source: https://docs.python.org/3/library/stdtypes.html"
   ]
  },
  {
   "cell_type": "markdown",
   "metadata": {},
   "source": [
    "#### Bool\n",
    "Boolean (bool) object can have two values: __True__ (1) and __False__ (0)\n",
    "\n",
    "> Uppercase is crutial\n",
    "\n",
    "Objects is concidered as false:\n",
    "* when _len()_ method returns 0\n",
    "* for constants: _None_ and _False_\n",
    "* for zero of any numeric type: *0*, *0.0*, *0j*, *Decimal(0)*, *Fraction(0, 1)*\n",
    "* empty sequences and collections: *\\'\\'*, *()*, *\\[\\]*, *{}*, *set()*, *range(0)*\n",
    "\n",
    "\n",
    "> __None__ represents the absence of value (and this is the only one value of the NoneType data type)\n",
    "<br> One example of using None is print() function, which displays text on the screen but doesn't return anything\n",
    "<br> None is returned in functions without return statement at the end or if they ends with return statement but without any value\n",
    "\n",
    "\n",
    "__[Extra]__\n",
    "<br>Look at the example below and try to guess the result\n",
    "<br>Do you know what happens? :)\n",
    "\n",
    "\n",
    "Explanation: https://slides.com/lisieslajdy/pythonwat#/0/2"
   ]
  },
  {
   "cell_type": "code",
   "execution_count": null,
   "metadata": {},
   "outputs": [],
   "source": [
    "False == False in [False]"
   ]
  },
  {
   "cell_type": "markdown",
   "metadata": {},
   "source": [
    "#### Numeric objects\n",
    "Numeric objects consists of:\n",
    "* __int__\n",
    "* __float__ \n",
    "* __complex__\n",
    "\n",
    "> Python 2.x has additional type called long.\n",
    "<br>They resigned from long in Python 3.x.\n",
    "<br>Now int behaves like long type\n",
    "\n",
    "\n"
   ]
  },
  {
   "cell_type": "code",
   "execution_count": null,
   "metadata": {},
   "outputs": [],
   "source": [
    "# division\n",
    "1/2"
   ]
  },
  {
   "cell_type": "code",
   "execution_count": null,
   "metadata": {},
   "outputs": [],
   "source": [
    "# division - floor\n",
    "1//2"
   ]
  },
  {
   "cell_type": "markdown",
   "metadata": {},
   "source": [
    "How was it in Python 2.x?\n",
    "\n",
    "<img alt=\"Integer division in Python 2.x\" src = \"pics/py2_int_div.png\" align=\"left\">"
   ]
  },
  {
   "cell_type": "markdown",
   "metadata": {},
   "source": [
    "__[Extra]__\n",
    "<br> Let's do some comparisons to check what is going behind the scenes in Python"
   ]
  },
  {
   "cell_type": "code",
   "execution_count": null,
   "metadata": {},
   "outputs": [],
   "source": [
    "a = 257\n",
    "b = 257\n",
    "a is b"
   ]
  },
  {
   "cell_type": "code",
   "execution_count": null,
   "metadata": {},
   "outputs": [],
   "source": [
    "c = 255\n",
    "d = 255\n",
    "c is d"
   ]
  },
  {
   "cell_type": "code",
   "execution_count": null,
   "metadata": {},
   "outputs": [],
   "source": [
    "e = 1\n",
    "f = 1.0\n",
    "e is f"
   ]
  },
  {
   "cell_type": "code",
   "execution_count": null,
   "metadata": {},
   "outputs": [],
   "source": [
    "a == b"
   ]
  },
  {
   "cell_type": "code",
   "execution_count": null,
   "metadata": {},
   "outputs": [],
   "source": [
    "e == f"
   ]
  },
  {
   "cell_type": "markdown",
   "metadata": {},
   "source": [
    "It seems to be a bug at the first glance\n",
    "In fact, it is not a bug, it's a feature :D\n",
    "\n",
    "\n",
    "First of all, we use in the examples two different methods: \n",
    "* __==__ which is comparing two different objects and it is mathematically equivalent\n",
    "* __is__ which checks if actuals objects are the same\n",
    "\n",
    "\n",
    "Let's focus more on __is__\n",
    "<br>Although, it is clear with the variables _e_ and _f_, it can be still confusing when we take into consideration variables _a_ - _d_\n",
    "\n",
    "\n",
    "In this case it is about memory allocation. \n",
    "<br>Numbers from __-5__ to __256__ has fixed place in memory, therefore _c_ and _d_ are pointers to the same object\n",
    "<br>_a_ and _b_ are two different objects, so _is_ returns _False_ in this case\n",
    "\n",
    "\n",
    "To prove this, let's check memory allocation of those variable:"
   ]
  },
  {
   "cell_type": "code",
   "execution_count": null,
   "metadata": {},
   "outputs": [],
   "source": [
    "for i in [a, b, c, d]:\n",
    "    print(i, id(i))"
   ]
  },
  {
   "cell_type": "markdown",
   "metadata": {},
   "source": [
    "__Remark__\n",
    ">Avoid one letter variables, especially I,O,l\n",
    "The greater the scope, the longer the identifier \n",
    "<br>__Exception__: short blocks of code, where meaning of the letter is obvious, as in the examples above\n",
    "\n",
    "<img alt=\"Letter variables to avoid\" src = \"pics/naming_err.png\" align=\"left\">"
   ]
  },
  {
   "cell_type": "markdown",
   "metadata": {},
   "source": [
    "#### str\n",
    "Strings in Python are arrays of bytes representing unicode characters\n",
    "Indexing starts with 0, so for string 'example' we have:\n",
    "\n",
    "| e | x | a | m | p | l | e |\n",
    "--- | --- | --- | ---  |--- | --- | --- |\n",
    "| 0 | 1 | 2 | 3 | 4 | 5 | 6 |\n",
    "| -7 | -6 | -5 | -4 | -3 | -2 | -1\n",
    "\n",
    "\n",
    "They can be created in three ways:\n",
    "* single quotes\n",
    "> spam = 'eggs and \"double quotes\" inside'\n",
    "\n",
    "* double quotes\n",
    ">spam = \"eggs and 'now single quotes' inside\"\n",
    "\n",
    "* tripple quoted\n",
    ">spam = '''Those are multiline'''\n",
    "<br>spam = \"\"\"Used for docstrings\"\"\"\n",
    "\n",
    "\n",
    "\n",
    ">There is also a _raw_ type of string\n",
    "<br>Raw means that most escape characters are disabled\n",
    "\n",
    "\n",
    "\n",
    "See some examples below"
   ]
  },
  {
   "cell_type": "code",
   "execution_count": null,
   "metadata": {},
   "outputs": [],
   "source": [
    "print(r'Jan \\n Kowalski')"
   ]
  },
  {
   "cell_type": "code",
   "execution_count": null,
   "metadata": {},
   "outputs": [],
   "source": [
    "print('Jan \\n Kowalski')"
   ]
  },
  {
   "cell_type": "code",
   "execution_count": null,
   "metadata": {},
   "outputs": [],
   "source": [
    "print(\"\"\"Jan\n",
    "Kowalski\n",
    "\"\"\")"
   ]
  },
  {
   "cell_type": "markdown",
   "metadata": {},
   "source": [
    ">Most common escape sequence characters:\n",
    "<br>__\\n__ - newline\n",
    "<br>__\\t__ - tabular"
   ]
  },
  {
   "cell_type": "code",
   "execution_count": null,
   "metadata": {},
   "outputs": [],
   "source": [
    "spam = '   Jan Kowalski  '\n",
    "spam"
   ]
  },
  {
   "cell_type": "markdown",
   "metadata": {},
   "source": [
    "Next examples will present the most [common string operations](https://docs.python.org/2/library/string.html):\n",
    "* slicing \n",
    "\n",
    ">string[start:end:step]\n",
    "\n",
    "* strip()\n",
    "\n",
    ">_\"Return a copy of the string with leading and trailing characters removed. If chars is omitted or None, whitespace characters are removed. If given and not None, chars must be a string; the characters in the string will be stripped from the both ends of the string this method is called on.\"_\n",
    "<br>Possible options: lstrip() (left) or rstrip() (right)\n",
    "\n",
    "* replace(s, old, new[, maxreplace])\n",
    "\n",
    ">Optional argument _maxreplace_ - if given only first _maxreplace_ occurances are replaced\n",
    "\n",
    "* change case: lower(), upper(), capitalize()\n",
    "* split(s[, sep[, maxsplit]])\n",
    "\n",
    ">\"*Return a list of the words of the string s. If the optional second argument sep is absent or None, the words are separated by arbitrary strings of whitespace characters (space, tab, newline, return, formfeed). If the second argument sep is present and not None, it specifies a string to be used as the word separator.*\"\n",
    "<br>Optional argument *maxsplit* is similar to *maxreplace*\n",
    "\n",
    "\n",
    "Examples:\n"
   ]
  },
  {
   "cell_type": "code",
   "execution_count": null,
   "metadata": {},
   "outputs": [],
   "source": [
    "spam"
   ]
  },
  {
   "cell_type": "code",
   "execution_count": null,
   "metadata": {},
   "outputs": [],
   "source": [
    "spam[5:9]"
   ]
  },
  {
   "cell_type": "code",
   "execution_count": null,
   "metadata": {},
   "outputs": [],
   "source": [
    "spam = spam.strip()"
   ]
  },
  {
   "cell_type": "code",
   "execution_count": null,
   "metadata": {},
   "outputs": [],
   "source": [
    "spam.lower()"
   ]
  },
  {
   "cell_type": "code",
   "execution_count": null,
   "metadata": {},
   "outputs": [],
   "source": [
    "spam.replace('Jan','Piotr')"
   ]
  },
  {
   "cell_type": "code",
   "execution_count": null,
   "metadata": {},
   "outputs": [],
   "source": [
    "spam.split('a')"
   ]
  },
  {
   "cell_type": "markdown",
   "metadata": {},
   "source": [
    "#### Task \\#1\n",
    "\n",
    "You will use variable eggs for the next strings' tasks\n",
    "\n",
    "* Write a sentence (remember about newline):\n",
    "\n",
    "_My name is:\n",
    "<br>eggs_\n",
    "\n",
    ">_eggs_ have to be capitalized"
   ]
  },
  {
   "cell_type": "code",
   "execution_count": null,
   "metadata": {},
   "outputs": [],
   "source": [
    "eggs = 'michael        '\n",
    "# Put your code here"
   ]
  },
  {
   "cell_type": "markdown",
   "metadata": {},
   "source": [
    "* Print string from previous task in a shorter form (-> single quote): \n",
    "\n",
    "_My name's:\n",
    "<br>eggs_"
   ]
  },
  {
   "cell_type": "code",
   "execution_count": null,
   "metadata": {},
   "outputs": [],
   "source": [
    "# Put your code here"
   ]
  },
  {
   "cell_type": "markdown",
   "metadata": {},
   "source": [
    "* Remove trailing spaces in your sentence"
   ]
  },
  {
   "cell_type": "code",
   "execution_count": null,
   "metadata": {},
   "outputs": [],
   "source": [
    "# Put your code here"
   ]
  },
  {
   "cell_type": "markdown",
   "metadata": {},
   "source": [
    "#### Python collections\n",
    "\n",
    "Python collections consists of different data types.\n",
    "\n",
    "__Summary__\n",
    "\n",
    "Type | ordered | mutable | duplicates \n",
    " --- |:---:|:---:|:---:|\n",
    "__list__ | Y | Y | Y\n",
    "__tuple__ | Y | N | Y\n",
    "__set__ | N | Y | N\n",
    "__dict__ | N | Y | N\n",
    "\n",
    "\n",
    ">In Python 3.x we have two additional data types:\n",
    "<br>__namedtuple()__ and __OrderedDict()__"
   ]
  },
  {
   "cell_type": "markdown",
   "metadata": {
    "collapsed": true
   },
   "source": [
    "#### tuple\n",
    "Standard sequence data type (*other, eg.: str, list, range*)\n",
    "<br>Consists number of values separated by comma\n",
    "<br>See examples below\n",
    "\n",
    "\n",
    "There are few ways to create tuple:\n",
    ">empty_t = (,)\n",
    "<br>singleton = 'hello', or ('hello',)\n",
    "<br>example_t = '1', 2, [1,2,3], or ('1', 2, [1,2,3],)\n",
    "\n",
    "\n",
    "Check examples below to find out the importance of trailing comma:"
   ]
  },
  {
   "cell_type": "code",
   "execution_count": null,
   "metadata": {},
   "outputs": [],
   "source": [
    "singleton = 'hello'\n",
    "type(singleton)"
   ]
  },
  {
   "cell_type": "code",
   "execution_count": null,
   "metadata": {},
   "outputs": [],
   "source": [
    "singleton = 'hello',\n",
    "type(singleton)"
   ]
  },
  {
   "cell_type": "code",
   "execution_count": null,
   "metadata": {},
   "outputs": [],
   "source": [
    "example_t = '1', 2, [1,2,3]\n",
    "type(example_t)"
   ]
  },
  {
   "cell_type": "code",
   "execution_count": null,
   "metadata": {},
   "outputs": [],
   "source": [
    "example_t[2]"
   ]
  },
  {
   "cell_type": "markdown",
   "metadata": {},
   "source": [
    "Examples above are called _tuple packing_\n",
    "<br>Reverse action is called _sequence unpacking_\n",
    "\n",
    ">Number of variables on the left side must equals number of elements in tuple"
   ]
  },
  {
   "cell_type": "code",
   "execution_count": null,
   "metadata": {},
   "outputs": [],
   "source": [
    "# tuple unpacking\n",
    "x, y, z = example_t\n",
    "z"
   ]
  },
  {
   "cell_type": "markdown",
   "metadata": {},
   "source": [
    "#### Task \\#2\n",
    "\n",
    "* GPS coordinates for our building are: __51.110210__ & __16.971130__\n",
    "\n",
    "Make a tuple to store them\n",
    "\n",
    "Why we choose tuple?"
   ]
  },
  {
   "cell_type": "code",
   "execution_count": null,
   "metadata": {},
   "outputs": [],
   "source": [
    "# Put your code here"
   ]
  },
  {
   "cell_type": "markdown",
   "metadata": {},
   "source": [
    "* Unpack tuple from the previous task to the variables:\n",
    "<br>lat\n",
    "<br>lon"
   ]
  },
  {
   "cell_type": "code",
   "execution_count": null,
   "metadata": {},
   "outputs": [],
   "source": [
    "# Put your code here"
   ]
  },
  {
   "cell_type": "markdown",
   "metadata": {},
   "source": [
    "__[Extra]\n",
    "<br>named tuple__\n"
   ]
  },
  {
   "cell_type": "code",
   "execution_count": null,
   "metadata": {},
   "outputs": [],
   "source": [
    "from collections import namedtuple\n",
    "\n",
    "\n",
    "GPS = namedtuple('GPS', 'lat lon')\n",
    "\n",
    "GPS_IBM = GPS(lat=51.110210,\n",
    "              lon=16.971130,)\n",
    "\n",
    "GPS_IBM"
   ]
  },
  {
   "cell_type": "markdown",
   "metadata": {
    "collapsed": true
   },
   "source": [
    "#### list\n",
    "empty_l = []\n",
    "<br>example_l = [1, '2', [1,2,3]]\n",
    "\n",
    ">__List comprehensions__\n",
    "<br>Create a list in a one line\n",
    "`example_t = [i for i in range(1, 11)]`\n",
    "<br>It's fancy solution but before using it please think if the readability of the code won't decrease\n",
    "\n",
    "Common list methods:\n",
    "* append()\n",
    "* sort()\n",
    "* extend()\n",
    "* insert(*index*, *element*)\n",
    "* reverse()\n",
    "* index()\n",
    "* ... \n",
    "\n",
    "[Explanation and more methods](https://docs.python.org/3/tutorial/datastructures.html)"
   ]
  },
  {
   "cell_type": "code",
   "execution_count": null,
   "metadata": {},
   "outputs": [],
   "source": [
    "example_l = [i for i in range(1, 11)]\n",
    "example_l"
   ]
  },
  {
   "cell_type": "code",
   "execution_count": null,
   "metadata": {},
   "outputs": [],
   "source": [
    "example_l.insert(6, 'index_6')\n",
    "example_l"
   ]
  },
  {
   "cell_type": "code",
   "execution_count": null,
   "metadata": {},
   "outputs": [],
   "source": [
    "example_l.append('new')\n",
    "example_l"
   ]
  },
  {
   "cell_type": "code",
   "execution_count": null,
   "metadata": {},
   "outputs": [],
   "source": [
    "list_ = ['a', 'b', 'c']\n",
    "example_l.extend(list_)\n",
    "example_l"
   ]
  },
  {
   "cell_type": "markdown",
   "metadata": {},
   "source": [
    "#### Task \\#3\n",
    "\n",
    "Use list named spam for the next tasks"
   ]
  },
  {
   "cell_type": "code",
   "execution_count": null,
   "metadata": {},
   "outputs": [],
   "source": [
    "spam = [i for i in range(1,11)]\n",
    "spam"
   ]
  },
  {
   "cell_type": "markdown",
   "metadata": {},
   "source": [
    "* Insert element: _index\\_4_ in the fourth index of the list spam\n",
    "\n",
    "(print spam)"
   ]
  },
  {
   "cell_type": "code",
   "execution_count": null,
   "metadata": {},
   "outputs": [],
   "source": [
    "# Put your code here"
   ]
  },
  {
   "cell_type": "markdown",
   "metadata": {},
   "source": [
    "* Append element: _new_ to the spam list\n",
    "\n",
    "(print spam)"
   ]
  },
  {
   "cell_type": "code",
   "execution_count": null,
   "metadata": {},
   "outputs": [],
   "source": [
    "# Put your code here"
   ]
  },
  {
   "cell_type": "markdown",
   "metadata": {},
   "source": [
    "* Exend spam list of eggs_l list\n",
    "\n",
    "(print spam)"
   ]
  },
  {
   "cell_type": "code",
   "execution_count": null,
   "metadata": {},
   "outputs": [],
   "source": [
    "eggs_l = [i for i in range(11, 15)]\n",
    "eggs_l\n",
    "# Put your code here"
   ]
  },
  {
   "cell_type": "markdown",
   "metadata": {},
   "source": [
    "* Exend spam list of eggs_l list - once again\n",
    "\n",
    "(print spam)"
   ]
  },
  {
   "cell_type": "code",
   "execution_count": null,
   "metadata": {},
   "outputs": [],
   "source": [
    "# Put your code here"
   ]
  },
  {
   "cell_type": "markdown",
   "metadata": {},
   "source": [
    "* Think of the characteristics of the above methods"
   ]
  },
  {
   "cell_type": "markdown",
   "metadata": {},
   "source": [
    "#### set\n",
    "It is unordered collections of unique elements\n",
    "\n",
    "\"*Common uses include membership testing, removing duplicates from a sequence, and computing standard math operations on sets such as intersection, union, difference, and symmetric difference.*\""
   ]
  },
  {
   "cell_type": "markdown",
   "metadata": {},
   "source": [
    "#### Task \\#4\n",
    "\n",
    "* Print only unique values of the spam list from previous task"
   ]
  },
  {
   "cell_type": "code",
   "execution_count": null,
   "metadata": {},
   "outputs": [],
   "source": [
    "# Put your code here\n",
    "# set(spam)"
   ]
  },
  {
   "cell_type": "markdown",
   "metadata": {},
   "source": [
    "#### dict\n",
    "\n",
    "Unilike lists (indexed by numbers), dictionaries are indexed by _keys_ (which must be unique)\n",
    "<br>Dictionary is a pair of unique _keys_ and _values_\n",
    "\n",
    ">tuple can be used as a dictionary key unless it contains only strings, numbers or other tuples (no mutable objects)\n",
    "\n",
    "How to create a dictionary:\n",
    ">empty_d = {}\n",
    "<br>example_d1 = {'name': 'Jan', 'surname': 'Kowalski', 'age': '35', 'hobby': ['ski', 'swimming', 'dancing']}\n",
    "<br>example_d2 = dict(name='Jan', surname='Kowalski', age=35)\n",
    "<br>example_d3 = dict(zip(['name', 'surname', 'age'], ['Jan', 'Kowalski', 35]))\n",
    "<br>example_d4 = dict([('name', 'Jan'), ('surname', 'Kowalski), ('age', 35)])"
   ]
  },
  {
   "cell_type": "code",
   "execution_count": null,
   "metadata": {},
   "outputs": [],
   "source": [
    "example_d = {}\n",
    "example_d['name'] = 'Jan'\n",
    "example_d['surname'] = 'Kowalski' \n",
    "example_d['age'] = '35'\n",
    "example_d['hobby'] = ['ski', 'swimming', 'dancing']\n",
    "example_d"
   ]
  },
  {
   "cell_type": "code",
   "execution_count": null,
   "metadata": {},
   "outputs": [],
   "source": [
    "example_d.keys()"
   ]
  },
  {
   "cell_type": "code",
   "execution_count": null,
   "metadata": {},
   "outputs": [],
   "source": [
    "example_d.values()"
   ]
  },
  {
   "cell_type": "code",
   "execution_count": null,
   "metadata": {},
   "outputs": [],
   "source": [
    "example_d['hobby'][0]"
   ]
  },
  {
   "cell_type": "code",
   "execution_count": null,
   "metadata": {},
   "outputs": [],
   "source": [
    "example_d.get('job', 'key not found')"
   ]
  },
  {
   "cell_type": "markdown",
   "metadata": {},
   "source": [
    "__[Extra]\n",
    "<br>OrderedDict__\n",
    "\n",
    "It's like regular dict but keeps the insertion order"
   ]
  },
  {
   "cell_type": "code",
   "execution_count": null,
   "metadata": {},
   "outputs": [],
   "source": [
    "from collections import OrderedDict\n",
    "\n",
    "\n",
    "example_od = OrderedDict()\n",
    "example_od['name'] = 'Jan'\n",
    "example_od['surname'] = 'Kowalski', \n",
    "example_od['age'] = '35', \n",
    "example_od['hobby'] = ['ski', 'swimming', 'dancing']\n",
    "example_od"
   ]
  },
  {
   "cell_type": "code",
   "execution_count": null,
   "metadata": {},
   "outputs": [],
   "source": [
    "example_od.keys()"
   ]
  },
  {
   "cell_type": "code",
   "execution_count": null,
   "metadata": {},
   "outputs": [],
   "source": [
    "example_od.values()"
   ]
  },
  {
   "cell_type": "markdown",
   "metadata": {},
   "source": [
    "#### Task \\#5\n",
    "\n",
    "DB entry from a local store is: \n",
    "\n",
    ">id = 1\n",
    "<br>name = 'Jan Kowalski'\n",
    "<br>product = ['t-shirt', 'hat']\n",
    "\n",
    "* Create dictionary based on the data from DB"
   ]
  },
  {
   "cell_type": "code",
   "execution_count": null,
   "metadata": {},
   "outputs": [],
   "source": [
    "# Put your code here"
   ]
  },
  {
   "cell_type": "markdown",
   "metadata": {},
   "source": [
    "* Try to get information from your dictionary about payments of the user\n",
    "\n",
    ">Use method _get_ and variable _payment_"
   ]
  },
  {
   "cell_type": "code",
   "execution_count": null,
   "metadata": {},
   "outputs": [],
   "source": [
    "# Put your code here"
   ]
  },
  {
   "cell_type": "markdown",
   "metadata": {},
   "source": [
    "### if condition"
   ]
  },
  {
   "cell_type": "code",
   "execution_count": null,
   "metadata": {},
   "outputs": [],
   "source": [
    "a = 5\n",
    "if a == 5:\n",
    "    print('a equals 5')\n",
    "elif a < 5:\n",
    "    print('a lower than 5')\n",
    "else:\n",
    "    print('a greater than 5')"
   ]
  },
  {
   "cell_type": "markdown",
   "metadata": {},
   "source": [
    "#### Task \\#6\n",
    "\n",
    "Your script ask user for some input:\n",
    "* if it is letter 'q', print 'Bye!'\n",
    "\n",
    "* otherwise, print 'Your answer is: USER_INPUT'\n"
   ]
  },
  {
   "cell_type": "code",
   "execution_count": null,
   "metadata": {},
   "outputs": [],
   "source": [
    "user_input = input('Would you like to contine? ')\n",
    "\n",
    "# Put your code here"
   ]
  },
  {
   "cell_type": "markdown",
   "metadata": {},
   "source": [
    "#### Loops"
   ]
  },
  {
   "cell_type": "code",
   "execution_count": null,
   "metadata": {},
   "outputs": [],
   "source": [
    "for i in range(1,6):\n",
    "    print(i)"
   ]
  },
  {
   "cell_type": "code",
   "execution_count": null,
   "metadata": {},
   "outputs": [],
   "source": [
    "i=1\n",
    "while i<6:\n",
    "    print(i)\n",
    "    i+=1"
   ]
  },
  {
   "cell_type": "markdown",
   "metadata": {},
   "source": [
    "#### Task \\#7\n",
    "* Print numbers from 10 to 20"
   ]
  },
  {
   "cell_type": "code",
   "execution_count": 1,
   "metadata": {},
   "outputs": [],
   "source": [
    "# Put your code here"
   ]
  },
  {
   "cell_type": "markdown",
   "metadata": {},
   "source": [
    "#### Functions\n",
    "\n",
    "We can divide fucntions into three groups:\n",
    "<br>1) [Build-in](https://docs.python.org/3/library/functions.html#sorted)\n",
    "<br>2) User defined\n",
    "<br>3) Anonymous (*lambda*)\n",
    "\n",
    "---\n",
    "__User-defined__\n",
    "\n",
    "Python 3 bring more features regarding function declaration:\n",
    "* argument type\n",
    "* returned value type\n",
    "\n",
    "It is possible also to set default value for the argument\n",
    "<br>If no value provided then function is run with this default value\n",
    "\n",
    ">def my_func(arg: type = default) -> return type:\n",
    "    # some code here\n",
    "    return result\n",
    "   \n",
    "---\n",
    "__Lambdas__\n",
    "\n",
    "Sometimes we need a short & quick function that will be used just once\n",
    "<br>Lambda expressions (forms) come to aid in such sittuation\n",
    "\n",
    "Basically expression:\n",
    ">lambda parameters: expression \n",
    "\n",
    "which is equivalent to:\n",
    "\n",
    ">`def <lambda>(parameters):\n",
    "      return expression`\n",
    "   \n",
    "---\n",
    "__Do you know__ that previously print was an expression?\n",
    "<br>print() was transformed into build-in function in Python3.x\n",
    "<br>To make long story short, please see output from console:\n",
    "\n",
    "<img alt=\"Letter variables to avoid\" src = \"pics/print_examples.png\">\n",
    "\n",
    ">__Advice__:\n",
    "<br>Pay more attention for __f'strings__ as they are recently added to the Python3.6"
   ]
  },
  {
   "cell_type": "code",
   "execution_count": null,
   "metadata": {},
   "outputs": [],
   "source": [
    "name = 'Iris'\n",
    "num = 5\n",
    "print('{}: {}'.format(name, num))"
   ]
  },
  {
   "cell_type": "code",
   "execution_count": null,
   "metadata": {},
   "outputs": [],
   "source": [
    "square = lambda x: x**2\n",
    "square(3)"
   ]
  },
  {
   "cell_type": "code",
   "execution_count": null,
   "metadata": {},
   "outputs": [],
   "source": [
    "# Find modulo of the number\n",
    "def find_mod(num:float, modulo:int = 1) -> int:\n",
    "    return num%modulo"
   ]
  },
  {
   "cell_type": "code",
   "execution_count": null,
   "metadata": {},
   "outputs": [],
   "source": [
    "find_mod(5.5,2.5)"
   ]
  },
  {
   "cell_type": "markdown",
   "metadata": {
    "collapsed": true
   },
   "source": [
    "Python doesn't have mechanism itself for checking data types declaration\n",
    "<br>Fortunately, they are two options:\n",
    "\n",
    "1) __PyCharm__ - shows you warnings\n",
    "\n",
    "<img alt=\"PyCharm warnings\" src = \"pics/pycharm1.jpg\" align=\"left\">\n",
    "<br>\n",
    "<img alt=\"PyCharm warnings\" src = \"pics/pycharm2.png\" align=\"left\">\n"
   ]
  },
  {
   "cell_type": "markdown",
   "metadata": {},
   "source": [
    "2) __mypy__ package (*mypy script*)\n",
    "<img alt=\"PyCharm warnings\" src = \"pics/typing_err.jpg\" align=\"left\">"
   ]
  },
  {
   "cell_type": "markdown",
   "metadata": {},
   "source": [
    "#### Remember the difference\n",
    "\n",
    "In this notebook I mentioned also about *methods*, which seems to be similar to *funcitons*\n",
    "<br>Moreover, have you noticed that talking about function definition we used *arguments* but there are *parameters* in PyCharm warnings?\n",
    "\n",
    "Do you know the difference?\n",
    "\n",
    ">__function__\n",
    "<br>Block of code to perform some task (-> __D__on't __R__epeat __Y__ourself) with it's own scope\n",
    "<br>They are called by name\n",
    "<br>eg. Python build-in function: __sorted(__my_list__)__ \n",
    "\n",
    "<br>\n",
    ">__method__\n",
    "<br>Basically, method is function associated with a class/object so it operates on class scope and data (can alter the object state)\n",
    "<br>Method is called on object\n",
    "<br>eg. List's method: my_list__.sort()__ \n",
    "\n",
    "[Click for more](https://www.tutorialspoint.com/difference-between-method-and-function-in-python)\n",
    "\n",
    "<br>\n",
    ">__parameter__\n",
    "<br>Value that function expects you to pass when ypu call it\n",
    "\n",
    "<br>\n",
    ">__argument__\n",
    "<br>Value that you pass to the function when you call it\n",
    "\n",
    "Be cautious!\n",
    "\n",
    "[\"_You can think of the parameter as a parking space and the argument as an automobile._\"](https://docs.microsoft.com/en-us/dotnet/visual-basic/programming-guide/language-features/procedures/differences-between-parameters-and-arguments)\n",
    "\n",
    "<img width=300 alt=\"Paramter vs argument\" src = \"pics/param_vs_arg.png\" align=\"left\">"
   ]
  },
  {
   "cell_type": "code",
   "execution_count": null,
   "metadata": {},
   "outputs": [],
   "source": [
    "my_list = [1,4,6,2,8,1,3]\n",
    "my_list"
   ]
  },
  {
   "cell_type": "code",
   "execution_count": null,
   "metadata": {},
   "outputs": [],
   "source": [
    "print(sorted(my_list))"
   ]
  },
  {
   "cell_type": "code",
   "execution_count": null,
   "metadata": {
    "scrolled": true
   },
   "outputs": [],
   "source": [
    "my_list"
   ]
  },
  {
   "cell_type": "code",
   "execution_count": null,
   "metadata": {},
   "outputs": [],
   "source": [
    "print(my_list.sort())"
   ]
  },
  {
   "cell_type": "code",
   "execution_count": null,
   "metadata": {},
   "outputs": [],
   "source": [
    "my_list"
   ]
  },
  {
   "cell_type": "markdown",
   "metadata": {},
   "source": [
    "> _sort()_ doesn't return any value while, _sorted()_ returns an iterable list"
   ]
  },
  {
   "cell_type": "markdown",
   "metadata": {},
   "source": [
    "#### Task \\#8\n",
    "\n",
    "* Define your function that calculates fractional\n",
    "\n",
    ">__Hint__\n",
    "<br>4! = 1 \\* 2 \\* 3 \\* 4 = 24 "
   ]
  },
  {
   "cell_type": "code",
   "execution_count": null,
   "metadata": {},
   "outputs": [],
   "source": [
    "# Put your code here"
   ]
  }
 ],
 "metadata": {
  "kernelspec": {
   "display_name": "Python 3",
   "language": "python",
   "name": "python3"
  },
  "language_info": {
   "codemirror_mode": {
    "name": "ipython",
    "version": 3
   },
   "file_extension": ".py",
   "mimetype": "text/x-python",
   "name": "python",
   "nbconvert_exporter": "python",
   "pygments_lexer": "ipython3",
   "version": "3.7.3"
  },
  "widgets": {
   "state": {},
   "version": "1.1.2"
  }
 },
 "nbformat": 4,
 "nbformat_minor": 4
}
